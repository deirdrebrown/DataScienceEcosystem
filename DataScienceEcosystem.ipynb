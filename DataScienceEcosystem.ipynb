{
 "cells": [
  {
   "cell_type": "markdown",
   "id": "f645c6ed-b6f0-491f-877a-53d874937e23",
   "metadata": {},
   "source": [
    "# Data Science Tools and Ecosystem"
   ]
  },
  {
   "cell_type": "markdown",
   "id": "da0fc9cc-c303-4c1b-a7b5-af4cd1024d5c",
   "metadata": {},
   "source": [
    "## Author:\n",
    "Deirdre Brown "
   ]
  },
  {
   "cell_type": "markdown",
   "id": "b4a22156-354b-41b3-a909-d285d2ca540b",
   "metadata": {},
   "source": [
    "## In this notebook, Data Science Tools ad Ecosystem are summarized."
   ]
  },
  {
   "cell_type": "markdown",
   "id": "1ad53fc1-dd64-44c1-81bf-a9e054edfccf",
   "metadata": {},
   "source": [
    "**Objectives:**\n",
    "* Popular Data Scientist Languages\n",
    "* Commonly Used Data Scientist Libraries\n",
    "* Arthmetic Expressions in Python"
   ]
  },
  {
   "cell_type": "markdown",
   "id": "b4edf625-7f90-4816-8472-50612f96c528",
   "metadata": {},
   "source": [
    "### Popular Data Scientist Languages\n",
    "1. Python\n",
    "2. R\n",
    "3. SQL"
   ]
  },
  {
   "cell_type": "markdown",
   "id": "fe2504e4-e534-448b-bc36-17bc74cd97fe",
   "metadata": {},
   "source": [
    "## Commonly Used Data Scientist Libraries\n",
    "1. Panda\n",
    "2. TensorFlow\n",
    "3. NumPy"
   ]
  },
  {
   "cell_type": "markdown",
   "id": "0e9c3518-8448-44ec-acf8-04782c787ee6",
   "metadata": {},
   "source": [
    "Data Science Tools |\n",
    "------------------\n",
    "Juypter Notebook |\n",
    "Spyder |\n",
    "Anaconda |"
   ]
  },
  {
   "cell_type": "markdown",
   "id": "0f2a17d9-013d-4e1d-9f76-b13b980637f8",
   "metadata": {},
   "source": [
    "### Below are a few examples of evaluating arithmetic expressions in Python"
   ]
  },
  {
   "cell_type": "code",
   "execution_count": 1,
   "id": "5110e787-8352-426b-b414-34ac95d01bc1",
   "metadata": {
    "tags": []
   },
   "outputs": [
    {
     "data": {
      "text/plain": [
       "17"
      ]
     },
     "execution_count": 1,
     "metadata": {},
     "output_type": "execute_result"
    }
   ],
   "source": [
    "# This is a simple arithmatic expression to multipy then add integers.\n",
    "(3*4)+5"
   ]
  },
  {
   "cell_type": "code",
   "execution_count": 2,
   "id": "4776cf0a-31e9-48bc-82d5-27e71386ca54",
   "metadata": {
    "tags": []
   },
   "outputs": [
    {
     "data": {
      "text/plain": [
       "3.3333333333333335"
      ]
     },
     "execution_count": 2,
     "metadata": {},
     "output_type": "execute_result"
    }
   ],
   "source": [
    "# This will convert 200 minutes to hours by dividing by 60.\n",
    "200/60"
   ]
  }
 ],
 "metadata": {
  "kernelspec": {
   "display_name": "Python",
   "language": "python",
   "name": "conda-env-python-py"
  },
  "language_info": {
   "codemirror_mode": {
    "name": "ipython",
    "version": 3
   },
   "file_extension": ".py",
   "mimetype": "text/x-python",
   "name": "python",
   "nbconvert_exporter": "python",
   "pygments_lexer": "ipython3",
   "version": "3.7.12"
  }
 },
 "nbformat": 4,
 "nbformat_minor": 5
}
